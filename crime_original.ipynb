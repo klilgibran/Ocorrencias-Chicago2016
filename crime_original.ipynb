{
 "cells": [
  {
   "cell_type": "code",
   "execution_count": 1,
   "id": "4a73d689-a53a-4a4e-887a-266283951911",
   "metadata": {},
   "outputs": [],
   "source": [
    "import pandas as pd \n",
    "import numpy as np "
   ]
  },
  {
   "cell_type": "code",
   "execution_count": 2,
   "id": "134442cc-f5e7-4270-9b8b-37009b584ad8",
   "metadata": {},
   "outputs": [],
   "source": [
    "crime = pd.read_csv(r\"C:\\Users\\Khalil Gibran\\Downloads\\crime.tsv\", sep='\\t')\n",
    "iucr = pd.read_csv(\"IUCR.tsv\" , sep='\\t')\n",
    "comunidade = pd.read_csv(\"Community_Area.tsv\" , sep='\\t')"
   ]
  },
  {
   "cell_type": "code",
   "execution_count": 3,
   "id": "df40c7db-c8c7-4d5d-97eb-de92b36aac15",
   "metadata": {},
   "outputs": [
    {
     "data": {
      "text/plain": [
       "Index(['crime_id', 'case_number', 'date', 'block', 'iucr',\n",
       "       'location_description', 'arrest', 'domestic', 'beat', 'district',\n",
       "       'ward', 'community_area', 'fbi_Code', 'latitude', 'longitude'],\n",
       "      dtype='object')"
      ]
     },
     "execution_count": 3,
     "metadata": {},
     "output_type": "execute_result"
    }
   ],
   "source": [
    "crime.columns "
   ]
  },
  {
   "cell_type": "code",
   "execution_count": 4,
   "id": "c41be554-87d8-49c6-8866-c7cd8092c3a4",
   "metadata": {},
   "outputs": [],
   "source": [
    "crime.drop(columns = ['latitude', 'longitude'] , axis = 1 , inplace = True ) #remoção de colunas que não serão usadas \n",
    "\n"
   ]
  },
  {
   "cell_type": "code",
   "execution_count": 5,
   "id": "bf87f5d4-745a-44a3-b54c-24e8814f2178",
   "metadata": {},
   "outputs": [
    {
     "data": {
      "text/plain": [
       "Index(['crime_id', 'case_number', 'date', 'block', 'iucr',\n",
       "       'location_description', 'arrest', 'domestic', 'beat', 'district',\n",
       "       'ward', 'community_area', 'fbi_Code'],\n",
       "      dtype='object')"
      ]
     },
     "execution_count": 5,
     "metadata": {},
     "output_type": "execute_result"
    }
   ],
   "source": [
    "crime.columns "
   ]
  },
  {
   "cell_type": "markdown",
   "id": "2690c494-78ef-4fea-a62d-43a1afe42f3f",
   "metadata": {},
   "source": [
    " ### Data cleaning  "
   ]
  },
  {
   "cell_type": "code",
   "execution_count": 6,
   "id": "6d96ccb6-4429-4536-9d75-1be39b8f4de7",
   "metadata": {},
   "outputs": [
    {
     "name": "stdout",
     "output_type": "stream",
     "text": [
      "<class 'pandas.core.frame.DataFrame'>\n",
      "RangeIndex: 269346 entries, 0 to 269345\n",
      "Data columns (total 13 columns):\n",
      " #   Column                Non-Null Count   Dtype \n",
      "---  ------                --------------   ----- \n",
      " 0   crime_id              269346 non-null  int64 \n",
      " 1   case_number           269346 non-null  object\n",
      " 2   date                  269346 non-null  object\n",
      " 3   block                 269346 non-null  object\n",
      " 4   iucr                  269346 non-null  object\n",
      " 5   location_description  268163 non-null  object\n",
      " 6   arrest                269346 non-null  bool  \n",
      " 7   domestic              269346 non-null  bool  \n",
      " 8   beat                  269346 non-null  int64 \n",
      " 9   district              269346 non-null  int64 \n",
      " 10  ward                  269346 non-null  int64 \n",
      " 11  community_area        269346 non-null  int64 \n",
      " 12  fbi_Code              269346 non-null  object\n",
      "dtypes: bool(2), int64(5), object(6)\n",
      "memory usage: 23.1+ MB\n"
     ]
    }
   ],
   "source": [
    "crime.info()"
   ]
  },
  {
   "cell_type": "markdown",
   "id": "52296ce7-72c8-46b0-9991-6997d36555a5",
   "metadata": {},
   "source": [
    "- convertendo a coluna \"date\" para datetime, para posteriomente extrar informações como dias da semana, hora, mês ou qualquer informação relacionada a tempo. "
   ]
  },
  {
   "cell_type": "code",
   "execution_count": 7,
   "id": "e2da98b9-d8ab-4c32-8867-68bf218c85d5",
   "metadata": {},
   "outputs": [],
   "source": [
    "crime.date = pd.to_datetime(crime.date) \n",
    "                                        \n"
   ]
  },
  {
   "cell_type": "code",
   "execution_count": 8,
   "id": "7921ff42-6b55-4393-8981-500d65af9149",
   "metadata": {},
   "outputs": [],
   "source": [
    "crime.insert( 3, 'Hour', crime.date.dt.hour ) #criando a tabela a tabela Hora!\n"
   ]
  },
  {
   "cell_type": "code",
   "execution_count": 9,
   "id": "155cd4e3-c085-4d38-8383-0b05a00f2652",
   "metadata": {},
   "outputs": [],
   "source": [
    "crime.insert( 4,'month' , crime.date.dt.month)"
   ]
  },
  {
   "cell_type": "code",
   "execution_count": 10,
   "id": "1e5991a7-23d0-4a3f-9960-b925ab443dc3",
   "metadata": {},
   "outputs": [],
   "source": [
    "crime.insert( 5, 'weekday_number' , crime.date.dt.weekday)"
   ]
  },
  {
   "cell_type": "code",
   "execution_count": 11,
   "id": "be725052-8db5-4bcb-a669-83fa5934fd7c",
   "metadata": {},
   "outputs": [],
   "source": [
    "dias_da_semana = {0: 'Monday', 1: 'Tuesday', 2: 'Wednesday', 3: 'Thursday', 4: 'Friday', 5: 'Saturday', 6: 'Sunday'}"
   ]
  },
  {
   "cell_type": "code",
   "execution_count": 12,
   "id": "69bdeb1b-6564-4141-a62b-747f4c0663f1",
   "metadata": {},
   "outputs": [],
   "source": [
    "crime['semana'] = crime['weekday_number'].map(dias_da_semana)"
   ]
  },
  {
   "cell_type": "code",
   "execution_count": 13,
   "id": "775b6ee9-bb23-4d91-9f75-aa25da32ce17",
   "metadata": {},
   "outputs": [
    {
     "data": {
      "text/plain": [
       "Index(['crime_id', 'case_number', 'date', 'Hour', 'month', 'weekday_number',\n",
       "       'block', 'iucr', 'location_description', 'arrest', 'domestic', 'beat',\n",
       "       'district', 'ward', 'community_area', 'fbi_Code', 'semana'],\n",
       "      dtype='object')"
      ]
     },
     "execution_count": 13,
     "metadata": {},
     "output_type": "execute_result"
    }
   ],
   "source": [
    "crime.columns"
   ]
  },
  {
   "cell_type": "code",
   "execution_count": 14,
   "id": "2d7fbb4e-865c-4351-9fca-d43286219655",
   "metadata": {},
   "outputs": [],
   "source": [
    "crime.drop(columns = ['beat', 'ward', 'fbi_Code' , 'weekday_number' ], axis = 1,  inplace = True) #remoção de colunas que não serão usadas. "
   ]
  },
  {
   "cell_type": "code",
   "execution_count": 15,
   "id": "3cb229a4-29d2-4ea4-8b57-d40f90f4c74a",
   "metadata": {},
   "outputs": [
    {
     "data": {
      "text/plain": [
       "(269346, 13)"
      ]
     },
     "execution_count": 15,
     "metadata": {},
     "output_type": "execute_result"
    }
   ],
   "source": [
    "crime.shape"
   ]
  },
  {
   "cell_type": "code",
   "execution_count": 16,
   "id": "9b3b204a-32dd-44ae-8d3e-95453d9b9114",
   "metadata": {},
   "outputs": [
    {
     "data": {
      "text/plain": [
       "0"
      ]
     },
     "execution_count": 16,
     "metadata": {},
     "output_type": "execute_result"
    }
   ],
   "source": [
    "crime.duplicated().sum() #verificando se há dados duplicados. "
   ]
  },
  {
   "cell_type": "code",
   "execution_count": 17,
   "id": "84ce9ee0-8607-489b-992d-c4f507249fcc",
   "metadata": {},
   "outputs": [
    {
     "data": {
      "text/html": [
       "<div>\n",
       "<style scoped>\n",
       "    .dataframe tbody tr th:only-of-type {\n",
       "        vertical-align: middle;\n",
       "    }\n",
       "\n",
       "    .dataframe tbody tr th {\n",
       "        vertical-align: top;\n",
       "    }\n",
       "\n",
       "    .dataframe thead th {\n",
       "        text-align: right;\n",
       "    }\n",
       "</style>\n",
       "<table border=\"1\" class=\"dataframe\">\n",
       "  <thead>\n",
       "    <tr style=\"text-align: right;\">\n",
       "      <th></th>\n",
       "      <th>case_number</th>\n",
       "      <th>block</th>\n",
       "      <th>iucr</th>\n",
       "      <th>location_description</th>\n",
       "      <th>semana</th>\n",
       "    </tr>\n",
       "  </thead>\n",
       "  <tbody>\n",
       "    <tr>\n",
       "      <th>count</th>\n",
       "      <td>269346</td>\n",
       "      <td>269346</td>\n",
       "      <td>269346</td>\n",
       "      <td>268163</td>\n",
       "      <td>269346</td>\n",
       "    </tr>\n",
       "    <tr>\n",
       "      <th>unique</th>\n",
       "      <td>269309</td>\n",
       "      <td>27901</td>\n",
       "      <td>326</td>\n",
       "      <td>139</td>\n",
       "      <td>7</td>\n",
       "    </tr>\n",
       "    <tr>\n",
       "      <th>top</th>\n",
       "      <td>HZ140230</td>\n",
       "      <td>001XX N STATE ST</td>\n",
       "      <td>486</td>\n",
       "      <td>STREET</td>\n",
       "      <td>Friday</td>\n",
       "    </tr>\n",
       "    <tr>\n",
       "      <th>freq</th>\n",
       "      <td>6</td>\n",
       "      <td>819</td>\n",
       "      <td>24750</td>\n",
       "      <td>60948</td>\n",
       "      <td>41326</td>\n",
       "    </tr>\n",
       "  </tbody>\n",
       "</table>\n",
       "</div>"
      ],
      "text/plain": [
       "       case_number             block    iucr location_description  semana\n",
       "count       269346            269346  269346               268163  269346\n",
       "unique      269309             27901     326                  139       7\n",
       "top       HZ140230  001XX N STATE ST     486               STREET  Friday\n",
       "freq             6               819   24750                60948   41326"
      ]
     },
     "execution_count": 17,
     "metadata": {},
     "output_type": "execute_result"
    }
   ],
   "source": [
    "crime.describe(include = 'object')"
   ]
  },
  {
   "cell_type": "code",
   "execution_count": 18,
   "id": "327132af-503d-42e3-8d1e-f78ec7682742",
   "metadata": {},
   "outputs": [],
   "source": [
    "null = crime.location_description.isnull()"
   ]
  },
  {
   "cell_type": "code",
   "execution_count": 19,
   "id": "b19a5ff6-f125-4c48-8a00-123fa47306c5",
   "metadata": {},
   "outputs": [
    {
     "data": {
      "text/plain": [
       "1183"
      ]
     },
     "execution_count": 19,
     "metadata": {},
     "output_type": "execute_result"
    }
   ],
   "source": [
    "null.sum()"
   ]
  },
  {
   "cell_type": "code",
   "execution_count": 20,
   "id": "71892fc3-6b3f-460e-8b9c-030b288b0f1f",
   "metadata": {},
   "outputs": [
    {
     "data": {
      "text/html": [
       "<div>\n",
       "<style scoped>\n",
       "    .dataframe tbody tr th:only-of-type {\n",
       "        vertical-align: middle;\n",
       "    }\n",
       "\n",
       "    .dataframe tbody tr th {\n",
       "        vertical-align: top;\n",
       "    }\n",
       "\n",
       "    .dataframe thead th {\n",
       "        text-align: right;\n",
       "    }\n",
       "</style>\n",
       "<table border=\"1\" class=\"dataframe\">\n",
       "  <thead>\n",
       "    <tr style=\"text-align: right;\">\n",
       "      <th></th>\n",
       "      <th>crime_id</th>\n",
       "      <th>case_number</th>\n",
       "      <th>date</th>\n",
       "      <th>Hour</th>\n",
       "      <th>month</th>\n",
       "      <th>block</th>\n",
       "      <th>iucr</th>\n",
       "      <th>location_description</th>\n",
       "      <th>arrest</th>\n",
       "      <th>domestic</th>\n",
       "      <th>district</th>\n",
       "      <th>community_area</th>\n",
       "      <th>semana</th>\n",
       "    </tr>\n",
       "  </thead>\n",
       "  <tbody>\n",
       "    <tr>\n",
       "      <th>9</th>\n",
       "      <td>11244431</td>\n",
       "      <td>JB169544</td>\n",
       "      <td>2016-03-01 07:40:00</td>\n",
       "      <td>7</td>\n",
       "      <td>3</td>\n",
       "      <td>021XX N KARLOV AVE</td>\n",
       "      <td>1153</td>\n",
       "      <td>NaN</td>\n",
       "      <td>False</td>\n",
       "      <td>False</td>\n",
       "      <td>25</td>\n",
       "      <td>20</td>\n",
       "      <td>Tuesday</td>\n",
       "    </tr>\n",
       "    <tr>\n",
       "      <th>12</th>\n",
       "      <td>11230877</td>\n",
       "      <td>JB152189</td>\n",
       "      <td>2016-03-15 13:25:00</td>\n",
       "      <td>13</td>\n",
       "      <td>3</td>\n",
       "      <td>020XX W CORTLAND ST</td>\n",
       "      <td>1154</td>\n",
       "      <td>NaN</td>\n",
       "      <td>False</td>\n",
       "      <td>False</td>\n",
       "      <td>14</td>\n",
       "      <td>22</td>\n",
       "      <td>Tuesday</td>\n",
       "    </tr>\n",
       "    <tr>\n",
       "      <th>14</th>\n",
       "      <td>11230884</td>\n",
       "      <td>JB152020</td>\n",
       "      <td>2016-04-20 13:10:00</td>\n",
       "      <td>13</td>\n",
       "      <td>4</td>\n",
       "      <td>015XX E 69TH ST</td>\n",
       "      <td>1153</td>\n",
       "      <td>NaN</td>\n",
       "      <td>False</td>\n",
       "      <td>False</td>\n",
       "      <td>3</td>\n",
       "      <td>43</td>\n",
       "      <td>Wednesday</td>\n",
       "    </tr>\n",
       "    <tr>\n",
       "      <th>30</th>\n",
       "      <td>11235008</td>\n",
       "      <td>JB157932</td>\n",
       "      <td>2016-10-01 09:15:00</td>\n",
       "      <td>9</td>\n",
       "      <td>10</td>\n",
       "      <td>040XX W 21ST PL</td>\n",
       "      <td>1153</td>\n",
       "      <td>NaN</td>\n",
       "      <td>False</td>\n",
       "      <td>False</td>\n",
       "      <td>10</td>\n",
       "      <td>29</td>\n",
       "      <td>Saturday</td>\n",
       "    </tr>\n",
       "    <tr>\n",
       "      <th>42</th>\n",
       "      <td>11240500</td>\n",
       "      <td>JB165087</td>\n",
       "      <td>2016-06-17 18:20:00</td>\n",
       "      <td>18</td>\n",
       "      <td>6</td>\n",
       "      <td>047XX N MARIA CT</td>\n",
       "      <td>1153</td>\n",
       "      <td>NaN</td>\n",
       "      <td>False</td>\n",
       "      <td>False</td>\n",
       "      <td>16</td>\n",
       "      <td>76</td>\n",
       "      <td>Friday</td>\n",
       "    </tr>\n",
       "  </tbody>\n",
       "</table>\n",
       "</div>"
      ],
      "text/plain": [
       "    crime_id case_number                date  Hour  month  \\\n",
       "9   11244431    JB169544 2016-03-01 07:40:00     7      3   \n",
       "12  11230877    JB152189 2016-03-15 13:25:00    13      3   \n",
       "14  11230884    JB152020 2016-04-20 13:10:00    13      4   \n",
       "30  11235008    JB157932 2016-10-01 09:15:00     9     10   \n",
       "42  11240500    JB165087 2016-06-17 18:20:00    18      6   \n",
       "\n",
       "                  block  iucr location_description  arrest  domestic  \\\n",
       "9    021XX N KARLOV AVE  1153                  NaN   False     False   \n",
       "12  020XX W CORTLAND ST  1154                  NaN   False     False   \n",
       "14      015XX E 69TH ST  1153                  NaN   False     False   \n",
       "30      040XX W 21ST PL  1153                  NaN   False     False   \n",
       "42     047XX N MARIA CT  1153                  NaN   False     False   \n",
       "\n",
       "    district  community_area     semana  \n",
       "9         25              20    Tuesday  \n",
       "12        14              22    Tuesday  \n",
       "14         3              43  Wednesday  \n",
       "30        10              29   Saturday  \n",
       "42        16              76     Friday  "
      ]
     },
     "execution_count": 20,
     "metadata": {},
     "output_type": "execute_result"
    }
   ],
   "source": [
    "crime[null].head(5) #valores nulos na tabela"
   ]
  },
  {
   "cell_type": "markdown",
   "id": "c84355bc-2a17-48f0-9d40-a69a9983b1c6",
   "metadata": {},
   "source": [
    "### mesclando as tabelas \n"
   ]
  },
  {
   "cell_type": "code",
   "execution_count": 21,
   "id": "dd121e27-5d9e-4c5b-89e0-e54f47d02d65",
   "metadata": {},
   "outputs": [],
   "source": [
    "crime = pd.merge( crime, iucr , on= 'iucr')"
   ]
  },
  {
   "cell_type": "code",
   "execution_count": 22,
   "id": "e3663053-6b8a-495c-8435-b8511dc63bcf",
   "metadata": {},
   "outputs": [
    {
     "data": {
      "text/plain": [
       "Index(['crime_id', 'case_number', 'date', 'Hour', 'month', 'block', 'iucr',\n",
       "       'location_description', 'arrest', 'domestic', 'district',\n",
       "       'community_area', 'semana', 'primary_description',\n",
       "       'secondary_description', 'index_code'],\n",
       "      dtype='object')"
      ]
     },
     "execution_count": 22,
     "metadata": {},
     "output_type": "execute_result"
    }
   ],
   "source": [
    "crime.columns "
   ]
  },
  {
   "cell_type": "code",
   "execution_count": 23,
   "id": "69db15e7-bd61-477d-a589-bcac726a3ea3",
   "metadata": {},
   "outputs": [],
   "source": [
    "del crime['index_code']"
   ]
  },
  {
   "cell_type": "code",
   "execution_count": 24,
   "id": "55f6c457-a6a0-440c-81ab-cc2c6bba7a53",
   "metadata": {},
   "outputs": [],
   "source": [
    "#organizando as colunas "
   ]
  },
  {
   "cell_type": "code",
   "execution_count": 25,
   "id": "17a33aec-59bb-4e41-9f9d-9c0b6b7eb764",
   "metadata": {},
   "outputs": [
    {
     "data": {
      "text/plain": [
       "Index(['crime_id', 'case_number', 'date', 'Hour', 'month', 'semana', 'block',\n",
       "       'iucr', 'primary_description', 'secondary_description',\n",
       "       'location_description', 'arrest', 'domestic', 'district',\n",
       "       'community_area'],\n",
       "      dtype='object')"
      ]
     },
     "execution_count": 25,
     "metadata": {},
     "output_type": "execute_result"
    }
   ],
   "source": [
    "crime[['crime_id', 'case_number', 'date', 'Hour', 'month', 'semana', 'block', 'iucr','primary_description', 'secondary_description',\n",
    "       'location_description', 'arrest', 'domestic', 'district',\n",
    "       'community_area',\n",
    "       ]].columns"
   ]
  },
  {
   "cell_type": "code",
   "execution_count": 26,
   "id": "18d64d8e-1b8b-47ff-9484-6533d882ac61",
   "metadata": {},
   "outputs": [
    {
     "data": {
      "text/html": [
       "<div>\n",
       "<style scoped>\n",
       "    .dataframe tbody tr th:only-of-type {\n",
       "        vertical-align: middle;\n",
       "    }\n",
       "\n",
       "    .dataframe tbody tr th {\n",
       "        vertical-align: top;\n",
       "    }\n",
       "\n",
       "    .dataframe thead th {\n",
       "        text-align: right;\n",
       "    }\n",
       "</style>\n",
       "<table border=\"1\" class=\"dataframe\">\n",
       "  <thead>\n",
       "    <tr style=\"text-align: right;\">\n",
       "      <th></th>\n",
       "      <th>area_number</th>\n",
       "      <th>community_area_name</th>\n",
       "      <th>side</th>\n",
       "    </tr>\n",
       "  </thead>\n",
       "  <tbody>\n",
       "    <tr>\n",
       "      <th>0</th>\n",
       "      <td>1</td>\n",
       "      <td>Rogers Park</td>\n",
       "      <td>Far North Side</td>\n",
       "    </tr>\n",
       "    <tr>\n",
       "      <th>1</th>\n",
       "      <td>2</td>\n",
       "      <td>West Ridge</td>\n",
       "      <td>Far North Side</td>\n",
       "    </tr>\n",
       "    <tr>\n",
       "      <th>2</th>\n",
       "      <td>3</td>\n",
       "      <td>Uptown</td>\n",
       "      <td>Far North Side</td>\n",
       "    </tr>\n",
       "    <tr>\n",
       "      <th>3</th>\n",
       "      <td>4</td>\n",
       "      <td>Lincoln Square</td>\n",
       "      <td>Far North Side</td>\n",
       "    </tr>\n",
       "    <tr>\n",
       "      <th>4</th>\n",
       "      <td>5</td>\n",
       "      <td>North Center</td>\n",
       "      <td>North Side</td>\n",
       "    </tr>\n",
       "  </tbody>\n",
       "</table>\n",
       "</div>"
      ],
      "text/plain": [
       "   area_number community_area_name            side\n",
       "0            1         Rogers Park  Far North Side\n",
       "1            2          West Ridge  Far North Side\n",
       "2            3              Uptown  Far North Side\n",
       "3            4      Lincoln Square  Far North Side\n",
       "4            5        North Center      North Side"
      ]
     },
     "execution_count": 26,
     "metadata": {},
     "output_type": "execute_result"
    }
   ],
   "source": [
    "comunidade.head()"
   ]
  },
  {
   "cell_type": "code",
   "execution_count": 27,
   "id": "ce04bd3d-b52e-4546-9c27-4180cfe619b6",
   "metadata": {},
   "outputs": [
    {
     "data": {
      "text/plain": [
       "77"
      ]
     },
     "execution_count": 27,
     "metadata": {},
     "output_type": "execute_result"
    }
   ],
   "source": [
    "comunidade.area_number.nunique()\n"
   ]
  },
  {
   "cell_type": "code",
   "execution_count": 28,
   "id": "6c1b166c-6a67-498e-9b9b-1b9e1317e744",
   "metadata": {},
   "outputs": [
    {
     "data": {
      "text/plain": [
       "77"
      ]
     },
     "execution_count": 28,
     "metadata": {},
     "output_type": "execute_result"
    }
   ],
   "source": [
    "crime.community_area.nunique()"
   ]
  },
  {
   "cell_type": "code",
   "execution_count": 29,
   "id": "ca695ba8-4f13-4b8b-b1aa-654c1216b9a1",
   "metadata": {},
   "outputs": [],
   "source": [
    "crime.rename(columns = {'community_area': 'area_number'}, inplace = True)"
   ]
  },
  {
   "cell_type": "code",
   "execution_count": 30,
   "id": "efae0922-de8e-4a44-b264-d0ec9cb5b272",
   "metadata": {},
   "outputs": [],
   "source": [
    "crime = pd.merge( crime, comunidade, on='area_number' )"
   ]
  },
  {
   "cell_type": "code",
   "execution_count": 31,
   "id": "56ccb6d9-1ddc-43da-9527-dcaa8cb6a529",
   "metadata": {},
   "outputs": [
    {
     "data": {
      "text/plain": [
       "Index(['crime_id', 'case_number', 'date', 'Hour', 'month', 'block', 'iucr',\n",
       "       'location_description', 'arrest', 'domestic', 'district', 'area_number',\n",
       "       'semana', 'primary_description', 'secondary_description',\n",
       "       'community_area_name', 'side'],\n",
       "      dtype='object')"
      ]
     },
     "execution_count": 31,
     "metadata": {},
     "output_type": "execute_result"
    }
   ],
   "source": [
    "crime.columns"
   ]
  },
  {
   "cell_type": "code",
   "execution_count": null,
   "id": "2323a371-c4fc-41d9-9baa-4af6e2e0a272",
   "metadata": {},
   "outputs": [],
   "source": []
  },
  {
   "cell_type": "markdown",
   "id": "6747f0a4-2b60-4173-b6e8-53381a22e7fc",
   "metadata": {},
   "source": [
    "#### As 5 áreas comunitárias (community_area_name) com o maior número de ocorrências de crimes são:"
   ]
  },
  {
   "cell_type": "code",
   "execution_count": 32,
   "id": "1df185d0-73d3-417f-b52a-60881fb19116",
   "metadata": {},
   "outputs": [
    {
     "data": {
      "text/plain": [
       "community_area_name\n",
       "Austin             16771\n",
       "Near North Side    10567\n",
       "Near West Side      9475\n",
       "Loop                9027\n",
       "North Lawndale      8812\n",
       "Name: crime_id, dtype: int64"
      ]
     },
     "execution_count": 32,
     "metadata": {},
     "output_type": "execute_result"
    }
   ],
   "source": [
    "crime.groupby('community_area_name').count()['crime_id'].sort_values(ascending=False)[:5]"
   ]
  },
  {
   "cell_type": "markdown",
   "id": "61179398-3148-4527-b7f8-199049f173b6",
   "metadata": {},
   "source": [
    "#### As 5 áreas(community_area_name) com o menor número de ocorrências: "
   ]
  },
  {
   "cell_type": "code",
   "execution_count": 33,
   "id": "45d0e4f7-3496-4004-900c-d7142a24a902",
   "metadata": {},
   "outputs": [
    {
     "data": {
      "text/plain": [
       "community_area_name\n",
       "Mount Greenwood    613\n",
       "Hegewisch          586\n",
       "Forest Glen        573\n",
       "Burnside           400\n",
       "Edison Park        309\n",
       "Name: crime_id, dtype: int64"
      ]
     },
     "execution_count": 33,
     "metadata": {},
     "output_type": "execute_result"
    }
   ],
   "source": [
    "crime.groupby('community_area_name').count()['crime_id'].sort_values(ascending=False).tail(5)"
   ]
  },
  {
   "cell_type": "markdown",
   "id": "545ce26b-8809-4867-9937-16d683228972",
   "metadata": {},
   "source": [
    "#### - Quais são as ocorrências mais comuns na área com menor número de denúncias na cidade de Chicago?"
   ]
  },
  {
   "cell_type": "code",
   "execution_count": 115,
   "id": "5cbbdb87-5ec2-4f0f-a7e1-686b57707b8b",
   "metadata": {},
   "outputs": [
    {
     "data": {
      "text/plain": [
       "iucr  primary_description  secondary_description  \n",
       "820   THEFT                $500 AND UNDER             33\n",
       "1320  CRIMINAL DAMAGE      TO VEHICLE                 26\n",
       "560   ASSAULT              SIMPLE                     22\n",
       "486   BATTERY              DOMESTIC BATTERY SIMPLE    20\n",
       "1310  CRIMINAL DAMAGE      TO PROPERTY                19\n",
       "dtype: int64"
      ]
     },
     "execution_count": 115,
     "metadata": {},
     "output_type": "execute_result"
    }
   ],
   "source": [
    "crime[crime.community_area_name.str.contains('Edison Park')][['iucr','primary_description', 'secondary_description' ]].value_counts()[:5]"
   ]
  },
  {
   "cell_type": "code",
   "execution_count": null,
   "id": "05035c82-0976-4f97-9921-2545edde6fba",
   "metadata": {},
   "outputs": [],
   "source": []
  },
  {
   "cell_type": "markdown",
   "id": "bf6498c8-c8b4-47fc-b494-c5f42b2b16d3",
   "metadata": {},
   "source": [
    "#### - As 10 combinações mais comuns de \"primary_description\" e \"secondary_description\" de crimes, juntamente com o número de ocorrências para cada combinação."
   ]
  },
  {
   "cell_type": "code",
   "execution_count": 34,
   "id": "9b104941-763a-40c4-9172-1418b66d703e",
   "metadata": {},
   "outputs": [
    {
     "data": {
      "text/plain": [
       "primary_description  secondary_description  \n",
       "BATTERY              DOMESTIC BATTERY SIMPLE    24750\n",
       "THEFT                $500 AND UNDER             24292\n",
       "BATTERY              SIMPLE                     16051\n",
       "CRIMINAL DAMAGE      TO VEHICLE                 15280\n",
       "THEFT                OVER $500                  15216\n",
       "CRIMINAL DAMAGE      TO PROPERTY                14145\n",
       "ASSAULT              SIMPLE                     12172\n",
       "THEFT                FROM BUILDING              10011\n",
       "MOTOR VEHICLE THEFT  AUTOMOBILE                  9511\n",
       "THEFT                RETAIL THEFT                8986\n",
       "dtype: int64"
      ]
     },
     "execution_count": 34,
     "metadata": {},
     "output_type": "execute_result"
    }
   ],
   "source": [
    "crime[['primary_description', 'secondary_description']].value_counts()[:10]"
   ]
  },
  {
   "cell_type": "markdown",
   "id": "e6696d8f-11f0-422e-b6e8-0cf5b509e142",
   "metadata": {},
   "source": [
    "#### - Qual é o dia da semana com o maior número de registros de denúncias?"
   ]
  },
  {
   "cell_type": "code",
   "execution_count": 35,
   "id": "87e24a21-6825-4ab0-a01b-1f9e794f13f1",
   "metadata": {},
   "outputs": [
    {
     "data": {
      "text/plain": [
       "Sunday       4384\n",
       "Saturday     4060\n",
       "Monday       3387\n",
       "Friday       3376\n",
       "Thursday     3247\n",
       "Tuesday      3149\n",
       "Wednesday    3147\n",
       "Name: semana, dtype: int64"
      ]
     },
     "execution_count": 35,
     "metadata": {},
     "output_type": "execute_result"
    }
   ],
   "source": [
    "crime[crime.iucr == '486']['semana'].value_counts()"
   ]
  },
  {
   "cell_type": "markdown",
   "id": "8e62d7f3-be08-4682-9e6d-2191a0786563",
   "metadata": {},
   "source": [
    "#### - Qual é o tipo de denúncia mais frequente aos domingos?"
   ]
  },
  {
   "cell_type": "code",
   "execution_count": 119,
   "id": "71981378-28b7-441c-a641-f516411a6505",
   "metadata": {},
   "outputs": [
    {
     "data": {
      "text/plain": [
       "iucr  primary_description  secondary_description  \n",
       "486   BATTERY              DOMESTIC BATTERY SIMPLE    4384\n",
       "820   THEFT                $500 AND UNDER             3275\n",
       "dtype: int64"
      ]
     },
     "execution_count": 119,
     "metadata": {},
     "output_type": "execute_result"
    }
   ],
   "source": [
    "crime[crime.semana.str.contains('Sunday')][['iucr',  'primary_description' , 'secondary_description']].value_counts()[:2]"
   ]
  },
  {
   "cell_type": "code",
   "execution_count": null,
   "id": "786012ee-05b9-408f-b9f9-2d0117652c8c",
   "metadata": {},
   "outputs": [],
   "source": []
  },
  {
   "cell_type": "markdown",
   "id": "0dff618e-1e7d-4d53-bcc7-7cde474a2c99",
   "metadata": {},
   "source": [
    "#### - Os 5 delitos mais frequentes nas RUAS de Chicago são:"
   ]
  },
  {
   "cell_type": "code",
   "execution_count": 37,
   "id": "284074a6-1580-4529-ac9b-6bf8ab92f29f",
   "metadata": {},
   "outputs": [
    {
     "data": {
      "text/plain": [
       "primary_description  secondary_description\n",
       "CRIMINAL DAMAGE      TO VEHICLE               10809\n",
       "THEFT                $500 AND UNDER            9350\n",
       "MOTOR VEHICLE THEFT  AUTOMOBILE                7045\n",
       "THEFT                OVER $500                 5656\n",
       "BATTERY              SIMPLE                    2505\n",
       "dtype: int64"
      ]
     },
     "execution_count": 37,
     "metadata": {},
     "output_type": "execute_result"
    }
   ],
   "source": [
    "crime[crime.location_description == 'STREET'][['primary_description','secondary_description']].value_counts()[:5]"
   ]
  },
  {
   "cell_type": "markdown",
   "id": "f6736d33-a24c-4a20-847d-a76c2cb27cf3",
   "metadata": {},
   "source": [
    "#### - um gráfico  que mostra a distribuição das denúncias ao longo do dia (24 horas) ?"
   ]
  },
  {
   "cell_type": "code",
   "execution_count": 38,
   "id": "7d0bdaf2-6c47-4594-b533-e68cee6621ec",
   "metadata": {},
   "outputs": [
    {
     "data": {
      "text/plain": [
       "<AxesSubplot:xlabel='Hour'>"
      ]
     },
     "execution_count": 38,
     "metadata": {},
     "output_type": "execute_result"
    },
    {
     "data": {
      "image/png": "[encoded data removed]",
      "text/plain": [
       "<Figure size 640x480 with 1 Axes>"
      ]
     },
     "metadata": {},
     "output_type": "display_data"
    }
   ],
   "source": [
    "crime.groupby('Hour').count()['crime_id'].plot(kind ='bar')"
   ]
  },
  {
   "cell_type": "code",
   "execution_count": null,
   "id": "a8f906de-e6c7-40b4-914d-b595336ec8e8",
   "metadata": {},
   "outputs": [],
   "source": []
  },
  {
   "cell_type": "markdown",
   "id": "ab0035cb-4104-4b75-a74d-e2374f543db6",
   "metadata": {},
   "source": [
    "#### - Quais os tipos ocorrências em periodos diferentes do dia (manhã, tarde, noite)?"
   ]
  },
  {
   "cell_type": "markdown",
   "id": "71000a51-808b-4d37-8699-52fb5c732e63",
   "metadata": {},
   "source": [
    "- 00:00 a 6h:"
   ]
  },
  {
   "cell_type": "code",
   "execution_count": 102,
   "id": "396fca3d-42ee-4ce2-a589-734b1bf9feb4",
   "metadata": {},
   "outputs": [
    {
     "data": {
      "text/html": [
       "<div>\n",
       "<style scoped>\n",
       "    .dataframe tbody tr th:only-of-type {\n",
       "        vertical-align: middle;\n",
       "    }\n",
       "\n",
       "    .dataframe tbody tr th {\n",
       "        vertical-align: top;\n",
       "    }\n",
       "\n",
       "    .dataframe thead th {\n",
       "        text-align: right;\n",
       "    }\n",
       "</style>\n",
       "<table border=\"1\" class=\"dataframe\">\n",
       "  <thead>\n",
       "    <tr style=\"text-align: right;\">\n",
       "      <th></th>\n",
       "      <th></th>\n",
       "      <th></th>\n",
       "      <th>0</th>\n",
       "    </tr>\n",
       "    <tr>\n",
       "      <th>iucr</th>\n",
       "      <th>primary_description</th>\n",
       "      <th>secondary_description</th>\n",
       "      <th></th>\n",
       "    </tr>\n",
       "  </thead>\n",
       "  <tbody>\n",
       "    <tr>\n",
       "      <th>486</th>\n",
       "      <th>BATTERY</th>\n",
       "      <th>DOMESTIC BATTERY SIMPLE</th>\n",
       "      <td>6126</td>\n",
       "    </tr>\n",
       "    <tr>\n",
       "      <th>820</th>\n",
       "      <th>THEFT</th>\n",
       "      <th>$500 AND UNDER</th>\n",
       "      <td>3971</td>\n",
       "    </tr>\n",
       "    <tr>\n",
       "      <th>1310</th>\n",
       "      <th>CRIMINAL DAMAGE</th>\n",
       "      <th>TO PROPERTY</th>\n",
       "      <td>3366</td>\n",
       "    </tr>\n",
       "    <tr>\n",
       "      <th>1320</th>\n",
       "      <th>CRIMINAL DAMAGE</th>\n",
       "      <th>TO VEHICLE</th>\n",
       "      <td>3324</td>\n",
       "    </tr>\n",
       "    <tr>\n",
       "      <th>460</th>\n",
       "      <th>BATTERY</th>\n",
       "      <th>SIMPLE</th>\n",
       "      <td>3180</td>\n",
       "    </tr>\n",
       "  </tbody>\n",
       "</table>\n",
       "</div>"
      ],
      "text/plain": [
       "                                                     0\n",
       "iucr primary_description secondary_description        \n",
       "486  BATTERY             DOMESTIC BATTERY SIMPLE  6126\n",
       "820  THEFT               $500 AND UNDER           3971\n",
       "1310 CRIMINAL DAMAGE     TO PROPERTY              3366\n",
       "1320 CRIMINAL DAMAGE     TO VEHICLE               3324\n",
       "460  BATTERY             SIMPLE                   3180"
      ]
     },
     "execution_count": 102,
     "metadata": {},
     "output_type": "execute_result"
    }
   ],
   "source": [
    "crime[crime.Hour.between(0 , 6)][['iucr', 'primary_description','secondary_description']].value_counts()[:5].to_frame()"
   ]
  },
  {
   "cell_type": "markdown",
   "id": "9c59604c-edc4-4eb9-8679-258a9823941d",
   "metadata": {},
   "source": [
    "- 6h a 12h:"
   ]
  },
  {
   "cell_type": "code",
   "execution_count": 116,
   "id": "6329e670-3a1b-4ce0-91ea-35b2d0029b82",
   "metadata": {},
   "outputs": [
    {
     "data": {
      "text/html": [
       "<div>\n",
       "<style scoped>\n",
       "    .dataframe tbody tr th:only-of-type {\n",
       "        vertical-align: middle;\n",
       "    }\n",
       "\n",
       "    .dataframe tbody tr th {\n",
       "        vertical-align: top;\n",
       "    }\n",
       "\n",
       "    .dataframe thead th {\n",
       "        text-align: right;\n",
       "    }\n",
       "</style>\n",
       "<table border=\"1\" class=\"dataframe\">\n",
       "  <thead>\n",
       "    <tr style=\"text-align: right;\">\n",
       "      <th></th>\n",
       "      <th></th>\n",
       "      <th></th>\n",
       "      <th>0</th>\n",
       "    </tr>\n",
       "    <tr>\n",
       "      <th>iucr</th>\n",
       "      <th>primary_description</th>\n",
       "      <th>secondary_description</th>\n",
       "      <th></th>\n",
       "    </tr>\n",
       "  </thead>\n",
       "  <tbody>\n",
       "    <tr>\n",
       "      <th>820</th>\n",
       "      <th>THEFT</th>\n",
       "      <th>$500 AND UNDER</th>\n",
       "      <td>6571</td>\n",
       "    </tr>\n",
       "    <tr>\n",
       "      <th>486</th>\n",
       "      <th>BATTERY</th>\n",
       "      <th>DOMESTIC BATTERY SIMPLE</th>\n",
       "      <td>6134</td>\n",
       "    </tr>\n",
       "    <tr>\n",
       "      <th>810</th>\n",
       "      <th>THEFT</th>\n",
       "      <th>OVER $500</th>\n",
       "      <td>4201</td>\n",
       "    </tr>\n",
       "    <tr>\n",
       "      <th>1310</th>\n",
       "      <th>CRIMINAL DAMAGE</th>\n",
       "      <th>TO PROPERTY</th>\n",
       "      <td>3573</td>\n",
       "    </tr>\n",
       "    <tr>\n",
       "      <th>560</th>\n",
       "      <th>ASSAULT</th>\n",
       "      <th>SIMPLE</th>\n",
       "      <td>3556</td>\n",
       "    </tr>\n",
       "  </tbody>\n",
       "</table>\n",
       "</div>"
      ],
      "text/plain": [
       "                                                     0\n",
       "iucr primary_description secondary_description        \n",
       "820  THEFT               $500 AND UNDER           6571\n",
       "486  BATTERY             DOMESTIC BATTERY SIMPLE  6134\n",
       "810  THEFT               OVER $500                4201\n",
       "1310 CRIMINAL DAMAGE     TO PROPERTY              3573\n",
       "560  ASSAULT             SIMPLE                   3556"
      ]
     },
     "execution_count": 116,
     "metadata": {},
     "output_type": "execute_result"
    }
   ],
   "source": [
    "crime[crime.Hour.between(6 , 12)][['iucr', 'primary_description','secondary_description']].value_counts()[:5].to_frame()"
   ]
  },
  {
   "cell_type": "markdown",
   "id": "755a6c4d-19b4-430a-bf6e-4e4ee80590d9",
   "metadata": {},
   "source": [
    "- 12h a 18h:"
   ]
  },
  {
   "cell_type": "code",
   "execution_count": 120,
   "id": "e57b5d80-8e27-4c42-809e-a24ffd0d78e6",
   "metadata": {},
   "outputs": [
    {
     "data": {
      "text/html": [
       "<div>\n",
       "<style scoped>\n",
       "    .dataframe tbody tr th:only-of-type {\n",
       "        vertical-align: middle;\n",
       "    }\n",
       "\n",
       "    .dataframe tbody tr th {\n",
       "        vertical-align: top;\n",
       "    }\n",
       "\n",
       "    .dataframe thead th {\n",
       "        text-align: right;\n",
       "    }\n",
       "</style>\n",
       "<table border=\"1\" class=\"dataframe\">\n",
       "  <thead>\n",
       "    <tr style=\"text-align: right;\">\n",
       "      <th></th>\n",
       "      <th></th>\n",
       "      <th></th>\n",
       "      <th>0</th>\n",
       "    </tr>\n",
       "    <tr>\n",
       "      <th>iucr</th>\n",
       "      <th>primary_description</th>\n",
       "      <th>secondary_description</th>\n",
       "      <th></th>\n",
       "    </tr>\n",
       "  </thead>\n",
       "  <tbody>\n",
       "    <tr>\n",
       "      <th>820</th>\n",
       "      <th>THEFT</th>\n",
       "      <th>$500 AND UNDER</th>\n",
       "      <td>9192</td>\n",
       "    </tr>\n",
       "    <tr>\n",
       "      <th>486</th>\n",
       "      <th>BATTERY</th>\n",
       "      <th>DOMESTIC BATTERY SIMPLE</th>\n",
       "      <td>7285</td>\n",
       "    </tr>\n",
       "    <tr>\n",
       "      <th>460</th>\n",
       "      <th>BATTERY</th>\n",
       "      <th>SIMPLE</th>\n",
       "      <td>6330</td>\n",
       "    </tr>\n",
       "    <tr>\n",
       "      <th>810</th>\n",
       "      <th>THEFT</th>\n",
       "      <th>OVER $500</th>\n",
       "      <td>5885</td>\n",
       "    </tr>\n",
       "    <tr>\n",
       "      <th>860</th>\n",
       "      <th>THEFT</th>\n",
       "      <th>RETAIL THEFT</th>\n",
       "      <td>5629</td>\n",
       "    </tr>\n",
       "  </tbody>\n",
       "</table>\n",
       "</div>"
      ],
      "text/plain": [
       "                                                     0\n",
       "iucr primary_description secondary_description        \n",
       "820  THEFT               $500 AND UNDER           9192\n",
       "486  BATTERY             DOMESTIC BATTERY SIMPLE  7285\n",
       "460  BATTERY             SIMPLE                   6330\n",
       "810  THEFT               OVER $500                5885\n",
       "860  THEFT               RETAIL THEFT             5629"
      ]
     },
     "execution_count": 120,
     "metadata": {},
     "output_type": "execute_result"
    }
   ],
   "source": [
    "crime[crime.Hour.between(12 , 18)][['iucr', 'primary_description','secondary_description']].value_counts()[:5].to_frame() "
   ]
  },
  {
   "cell_type": "markdown",
   "id": "fa5301d5-f3f8-44a9-aeb5-7e6303458160",
   "metadata": {},
   "source": [
    "- 18h a 23h:"
   ]
  },
  {
   "cell_type": "code",
   "execution_count": 104,
   "id": "6eed982e-5a64-4cfc-89b5-8f5131ddbdfc",
   "metadata": {},
   "outputs": [
    {
     "data": {
      "text/html": [
       "<div>\n",
       "<style scoped>\n",
       "    .dataframe tbody tr th:only-of-type {\n",
       "        vertical-align: middle;\n",
       "    }\n",
       "\n",
       "    .dataframe tbody tr th {\n",
       "        vertical-align: top;\n",
       "    }\n",
       "\n",
       "    .dataframe thead th {\n",
       "        text-align: right;\n",
       "    }\n",
       "</style>\n",
       "<table border=\"1\" class=\"dataframe\">\n",
       "  <thead>\n",
       "    <tr style=\"text-align: right;\">\n",
       "      <th></th>\n",
       "      <th></th>\n",
       "      <th></th>\n",
       "      <th>0</th>\n",
       "    </tr>\n",
       "    <tr>\n",
       "      <th>iucr</th>\n",
       "      <th>primary_description</th>\n",
       "      <th>secondary_description</th>\n",
       "      <th></th>\n",
       "    </tr>\n",
       "  </thead>\n",
       "  <tbody>\n",
       "    <tr>\n",
       "      <th>486</th>\n",
       "      <th>BATTERY</th>\n",
       "      <th>DOMESTIC BATTERY SIMPLE</th>\n",
       "      <td>7993</td>\n",
       "    </tr>\n",
       "    <tr>\n",
       "      <th>820</th>\n",
       "      <th>THEFT</th>\n",
       "      <th>$500 AND UNDER</th>\n",
       "      <td>7947</td>\n",
       "    </tr>\n",
       "    <tr>\n",
       "      <th>1320</th>\n",
       "      <th>CRIMINAL DAMAGE</th>\n",
       "      <th>TO VEHICLE</th>\n",
       "      <td>6021</td>\n",
       "    </tr>\n",
       "    <tr>\n",
       "      <th>460</th>\n",
       "      <th>BATTERY</th>\n",
       "      <th>SIMPLE</th>\n",
       "      <td>4881</td>\n",
       "    </tr>\n",
       "    <tr>\n",
       "      <th>810</th>\n",
       "      <th>THEFT</th>\n",
       "      <th>OVER $500</th>\n",
       "      <td>4876</td>\n",
       "    </tr>\n",
       "  </tbody>\n",
       "</table>\n",
       "</div>"
      ],
      "text/plain": [
       "                                                     0\n",
       "iucr primary_description secondary_description        \n",
       "486  BATTERY             DOMESTIC BATTERY SIMPLE  7993\n",
       "820  THEFT               $500 AND UNDER           7947\n",
       "1320 CRIMINAL DAMAGE     TO VEHICLE               6021\n",
       "460  BATTERY             SIMPLE                   4881\n",
       "810  THEFT               OVER $500                4876"
      ]
     },
     "execution_count": 104,
     "metadata": {},
     "output_type": "execute_result"
    }
   ],
   "source": [
    "crime[crime.Hour.between(18, 23)][['iucr', 'primary_description','secondary_description']].value_counts()[:5].to_frame()\n"
   ]
  },
  {
   "cell_type": "code",
   "execution_count": 39,
   "id": "158f6fa6-1c49-4e6c-95b1-3087f18a74f8",
   "metadata": {},
   "outputs": [],
   "source": []
  },
  {
   "cell_type": "code",
   "execution_count": 43,
   "id": "da6e267e-7ac3-4b31-ae01-6647780d8cbc",
   "metadata": {},
   "outputs": [
    {
     "data": {
      "text/html": [
       "<div>\n",
       "<style scoped>\n",
       "    .dataframe tbody tr th:only-of-type {\n",
       "        vertical-align: middle;\n",
       "    }\n",
       "\n",
       "    .dataframe tbody tr th {\n",
       "        vertical-align: top;\n",
       "    }\n",
       "\n",
       "    .dataframe thead th {\n",
       "        text-align: right;\n",
       "    }\n",
       "</style>\n",
       "<table border=\"1\" class=\"dataframe\">\n",
       "  <thead>\n",
       "    <tr style=\"text-align: right;\">\n",
       "      <th>semana</th>\n",
       "      <th>Friday</th>\n",
       "      <th>Monday</th>\n",
       "      <th>Saturday</th>\n",
       "      <th>Sunday</th>\n",
       "      <th>Thursday</th>\n",
       "      <th>Tuesday</th>\n",
       "      <th>Wednesday</th>\n",
       "    </tr>\n",
       "    <tr>\n",
       "      <th>Hour</th>\n",
       "      <th></th>\n",
       "      <th></th>\n",
       "      <th></th>\n",
       "      <th></th>\n",
       "      <th></th>\n",
       "      <th></th>\n",
       "      <th></th>\n",
       "    </tr>\n",
       "  </thead>\n",
       "  <tbody>\n",
       "    <tr>\n",
       "      <th>0</th>\n",
       "      <td>2184</td>\n",
       "      <td>1866</td>\n",
       "      <td>2158</td>\n",
       "      <td>2114</td>\n",
       "      <td>1656</td>\n",
       "      <td>1727</td>\n",
       "      <td>1699</td>\n",
       "    </tr>\n",
       "    <tr>\n",
       "      <th>1</th>\n",
       "      <td>1123</td>\n",
       "      <td>1020</td>\n",
       "      <td>1625</td>\n",
       "      <td>1629</td>\n",
       "      <td>939</td>\n",
       "      <td>911</td>\n",
       "      <td>847</td>\n",
       "    </tr>\n",
       "    <tr>\n",
       "      <th>2</th>\n",
       "      <td>877</td>\n",
       "      <td>798</td>\n",
       "      <td>1532</td>\n",
       "      <td>1619</td>\n",
       "      <td>739</td>\n",
       "      <td>728</td>\n",
       "      <td>733</td>\n",
       "    </tr>\n",
       "    <tr>\n",
       "      <th>3</th>\n",
       "      <td>721</td>\n",
       "      <td>649</td>\n",
       "      <td>1256</td>\n",
       "      <td>1423</td>\n",
       "      <td>610</td>\n",
       "      <td>630</td>\n",
       "      <td>581</td>\n",
       "    </tr>\n",
       "    <tr>\n",
       "      <th>4</th>\n",
       "      <td>584</td>\n",
       "      <td>560</td>\n",
       "      <td>931</td>\n",
       "      <td>1137</td>\n",
       "      <td>489</td>\n",
       "      <td>487</td>\n",
       "      <td>447</td>\n",
       "    </tr>\n",
       "    <tr>\n",
       "      <th>5</th>\n",
       "      <td>554</td>\n",
       "      <td>531</td>\n",
       "      <td>707</td>\n",
       "      <td>776</td>\n",
       "      <td>487</td>\n",
       "      <td>480</td>\n",
       "      <td>472</td>\n",
       "    </tr>\n",
       "    <tr>\n",
       "      <th>6</th>\n",
       "      <td>751</td>\n",
       "      <td>733</td>\n",
       "      <td>622</td>\n",
       "      <td>641</td>\n",
       "      <td>678</td>\n",
       "      <td>713</td>\n",
       "      <td>653</td>\n",
       "    </tr>\n",
       "    <tr>\n",
       "      <th>7</th>\n",
       "      <td>1090</td>\n",
       "      <td>1048</td>\n",
       "      <td>767</td>\n",
       "      <td>702</td>\n",
       "      <td>1078</td>\n",
       "      <td>1031</td>\n",
       "      <td>1005</td>\n",
       "    </tr>\n",
       "    <tr>\n",
       "      <th>8</th>\n",
       "      <td>1549</td>\n",
       "      <td>1513</td>\n",
       "      <td>1076</td>\n",
       "      <td>957</td>\n",
       "      <td>1567</td>\n",
       "      <td>1515</td>\n",
       "      <td>1487</td>\n",
       "    </tr>\n",
       "    <tr>\n",
       "      <th>9</th>\n",
       "      <td>2014</td>\n",
       "      <td>1979</td>\n",
       "      <td>1520</td>\n",
       "      <td>1387</td>\n",
       "      <td>1987</td>\n",
       "      <td>1953</td>\n",
       "      <td>1947</td>\n",
       "    </tr>\n",
       "    <tr>\n",
       "      <th>10</th>\n",
       "      <td>1844</td>\n",
       "      <td>1802</td>\n",
       "      <td>1577</td>\n",
       "      <td>1475</td>\n",
       "      <td>1764</td>\n",
       "      <td>1792</td>\n",
       "      <td>1802</td>\n",
       "    </tr>\n",
       "    <tr>\n",
       "      <th>11</th>\n",
       "      <td>1796</td>\n",
       "      <td>1807</td>\n",
       "      <td>1657</td>\n",
       "      <td>1526</td>\n",
       "      <td>1782</td>\n",
       "      <td>1748</td>\n",
       "      <td>1781</td>\n",
       "    </tr>\n",
       "    <tr>\n",
       "      <th>12</th>\n",
       "      <td>2460</td>\n",
       "      <td>2268</td>\n",
       "      <td>2117</td>\n",
       "      <td>1926</td>\n",
       "      <td>2401</td>\n",
       "      <td>2307</td>\n",
       "      <td>2322</td>\n",
       "    </tr>\n",
       "    <tr>\n",
       "      <th>13</th>\n",
       "      <td>1999</td>\n",
       "      <td>1929</td>\n",
       "      <td>1805</td>\n",
       "      <td>1533</td>\n",
       "      <td>1902</td>\n",
       "      <td>1949</td>\n",
       "      <td>1925</td>\n",
       "    </tr>\n",
       "    <tr>\n",
       "      <th>14</th>\n",
       "      <td>2030</td>\n",
       "      <td>1941</td>\n",
       "      <td>1852</td>\n",
       "      <td>1713</td>\n",
       "      <td>1979</td>\n",
       "      <td>1946</td>\n",
       "      <td>1966</td>\n",
       "    </tr>\n",
       "    <tr>\n",
       "      <th>15</th>\n",
       "      <td>2238</td>\n",
       "      <td>2137</td>\n",
       "      <td>2000</td>\n",
       "      <td>1705</td>\n",
       "      <td>2110</td>\n",
       "      <td>2094</td>\n",
       "      <td>2036</td>\n",
       "    </tr>\n",
       "    <tr>\n",
       "      <th>16</th>\n",
       "      <td>2260</td>\n",
       "      <td>2071</td>\n",
       "      <td>1875</td>\n",
       "      <td>1784</td>\n",
       "      <td>2110</td>\n",
       "      <td>2091</td>\n",
       "      <td>2045</td>\n",
       "    </tr>\n",
       "    <tr>\n",
       "      <th>17</th>\n",
       "      <td>2247</td>\n",
       "      <td>2066</td>\n",
       "      <td>1937</td>\n",
       "      <td>1827</td>\n",
       "      <td>2117</td>\n",
       "      <td>2027</td>\n",
       "      <td>2111</td>\n",
       "    </tr>\n",
       "    <tr>\n",
       "      <th>18</th>\n",
       "      <td>2532</td>\n",
       "      <td>2169</td>\n",
       "      <td>2182</td>\n",
       "      <td>1895</td>\n",
       "      <td>2253</td>\n",
       "      <td>2234</td>\n",
       "      <td>2256</td>\n",
       "    </tr>\n",
       "    <tr>\n",
       "      <th>19</th>\n",
       "      <td>2306</td>\n",
       "      <td>2104</td>\n",
       "      <td>2119</td>\n",
       "      <td>2002</td>\n",
       "      <td>2238</td>\n",
       "      <td>2148</td>\n",
       "      <td>2162</td>\n",
       "    </tr>\n",
       "    <tr>\n",
       "      <th>20</th>\n",
       "      <td>2217</td>\n",
       "      <td>2046</td>\n",
       "      <td>2132</td>\n",
       "      <td>1987</td>\n",
       "      <td>2089</td>\n",
       "      <td>2046</td>\n",
       "      <td>1966</td>\n",
       "    </tr>\n",
       "    <tr>\n",
       "      <th>21</th>\n",
       "      <td>2043</td>\n",
       "      <td>1848</td>\n",
       "      <td>1982</td>\n",
       "      <td>1896</td>\n",
       "      <td>1955</td>\n",
       "      <td>1897</td>\n",
       "      <td>1859</td>\n",
       "    </tr>\n",
       "    <tr>\n",
       "      <th>22</th>\n",
       "      <td>2046</td>\n",
       "      <td>1873</td>\n",
       "      <td>2019</td>\n",
       "      <td>1904</td>\n",
       "      <td>1867</td>\n",
       "      <td>1822</td>\n",
       "      <td>1786</td>\n",
       "    </tr>\n",
       "    <tr>\n",
       "      <th>23</th>\n",
       "      <td>1846</td>\n",
       "      <td>1439</td>\n",
       "      <td>1934</td>\n",
       "      <td>1518</td>\n",
       "      <td>1488</td>\n",
       "      <td>1408</td>\n",
       "      <td>1468</td>\n",
       "    </tr>\n",
       "  </tbody>\n",
       "</table>\n",
       "</div>"
      ],
      "text/plain": [
       "semana  Friday  Monday  Saturday  Sunday  Thursday  Tuesday  Wednesday\n",
       "Hour                                                                  \n",
       "0         2184    1866      2158    2114      1656     1727       1699\n",
       "1         1123    1020      1625    1629       939      911        847\n",
       "2          877     798      1532    1619       739      728        733\n",
       "3          721     649      1256    1423       610      630        581\n",
       "4          584     560       931    1137       489      487        447\n",
       "5          554     531       707     776       487      480        472\n",
       "6          751     733       622     641       678      713        653\n",
       "7         1090    1048       767     702      1078     1031       1005\n",
       "8         1549    1513      1076     957      1567     1515       1487\n",
       "9         2014    1979      1520    1387      1987     1953       1947\n",
       "10        1844    1802      1577    1475      1764     1792       1802\n",
       "11        1796    1807      1657    1526      1782     1748       1781\n",
       "12        2460    2268      2117    1926      2401     2307       2322\n",
       "13        1999    1929      1805    1533      1902     1949       1925\n",
       "14        2030    1941      1852    1713      1979     1946       1966\n",
       "15        2238    2137      2000    1705      2110     2094       2036\n",
       "16        2260    2071      1875    1784      2110     2091       2045\n",
       "17        2247    2066      1937    1827      2117     2027       2111\n",
       "18        2532    2169      2182    1895      2253     2234       2256\n",
       "19        2306    2104      2119    2002      2238     2148       2162\n",
       "20        2217    2046      2132    1987      2089     2046       1966\n",
       "21        2043    1848      1982    1896      1955     1897       1859\n",
       "22        2046    1873      2019    1904      1867     1822       1786\n",
       "23        1846    1439      1934    1518      1488     1408       1468"
      ]
     },
     "execution_count": 43,
     "metadata": {},
     "output_type": "execute_result"
    }
   ],
   "source": [
    "crime.groupby(['Hour', 'semana']).count()['crime_id'].unstack()"
   ]
  },
  {
   "cell_type": "code",
   "execution_count": null,
   "id": "6634357b-7a1e-40d6-b8c8-dce9c121e268",
   "metadata": {},
   "outputs": [],
   "source": []
  },
  {
   "cell_type": "code",
   "execution_count": null,
   "id": "84797a90-0475-4906-9081-52a454969d84",
   "metadata": {},
   "outputs": [],
   "source": []
  },
  {
   "cell_type": "code",
   "execution_count": null,
   "id": "c6e766f7-296d-417f-8d9e-9ee72fe86ff5",
   "metadata": {},
   "outputs": [],
   "source": []
  },
  {
   "cell_type": "code",
   "execution_count": null,
   "id": "9f80fb2c-6ce4-4fd8-a584-0051127523f4",
   "metadata": {},
   "outputs": [],
   "source": []
  },
  {
   "cell_type": "code",
   "execution_count": null,
   "id": "addbf868-396a-4867-920d-d8664bb3872b",
   "metadata": {},
   "outputs": [],
   "source": []
  },
  {
   "cell_type": "code",
   "execution_count": null,
   "id": "545eee1b-869a-418b-b4d6-559ee93154f6",
   "metadata": {},
   "outputs": [],
   "source": []
  },
  {
   "cell_type": "code",
   "execution_count": null,
   "id": "578de5ff-158f-4dca-8158-86ade91d16f7",
   "metadata": {},
   "outputs": [],
   "source": []
  },
  {
   "cell_type": "code",
   "execution_count": null,
   "id": "d202d7a4-ae20-4e28-8e85-b3b77612b1c7",
   "metadata": {},
   "outputs": [],
   "source": []
  },
  {
   "cell_type": "code",
   "execution_count": null,
   "id": "e7065082-a98c-4aed-902b-64e47bbc1b03",
   "metadata": {},
   "outputs": [],
   "source": []
  },
  {
   "cell_type": "code",
   "execution_count": null,
   "id": "f4df4646-ccab-4cfc-a08a-4bcad5885289",
   "metadata": {},
   "outputs": [],
   "source": []
  }
 ],
 "metadata": {
  "kernelspec": {
   "display_name": "Python 3 (ipykernel)",
   "language": "python",
   "name": "python3"
  },
  "language_info": {
   "codemirror_mode": {
    "name": "ipython",
    "version": 3
   },
   "file_extension": ".py",
   "mimetype": "text/x-python",
   "name": "python",
   "nbconvert_exporter": "python",
   "pygments_lexer": "ipython3",
   "version": "3.9.13"
  }
 },
 "nbformat": 4,
 "nbformat_minor": 5
}
