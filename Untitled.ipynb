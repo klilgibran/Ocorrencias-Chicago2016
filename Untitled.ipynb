{
 "cells": [
  {
   "cell_type": "code",
   "execution_count": 1,
   "id": "9d899ef6-32b8-4900-8d68-9f5853c82e71",
   "metadata": {},
   "outputs": [],
   "source": [
    "import pandas as pd "
   ]
  },
  {
   "cell_type": "code",
   "execution_count": 8,
   "id": "a21eeed0-786f-478c-9541-9fd8abd7b4a1",
   "metadata": {},
   "outputs": [],
   "source": [
    "crime = pd.read_csv(r\"C:\\Users\\Khalil Gibran\\Downloads\\crime.tsv\", sep='\\t')"
   ]
  },
  {
   "cell_type": "code",
   "execution_count": 10,
   "id": "e37b0630-b3fa-496b-8c48-e156f83d938b",
   "metadata": {},
   "outputs": [
    {
     "data": {
      "text/plain": [
       "Index(['crime_id', 'case_number', 'date', 'block', 'iucr',\n",
       "       'location_description', 'arrest', 'domestic', 'beat', 'district',\n",
       "       'ward', 'community_area', 'fbi_Code', 'latitude', 'longitude'],\n",
       "      dtype='object')"
      ]
     },
     "execution_count": 10,
     "metadata": {},
     "output_type": "execute_result"
    }
   ],
   "source": [
    "crime.columns"
   ]
  },
  {
   "cell_type": "code",
   "execution_count": null,
   "id": "69d745bd-d4cc-4cb4-97c0-f56317436ee1",
   "metadata": {},
   "outputs": [],
   "source": []
  }
 ],
 "metadata": {
  "kernelspec": {
   "display_name": "Python 3 (ipykernel)",
   "language": "python",
   "name": "python3"
  },
  "language_info": {
   "codemirror_mode": {
    "name": "ipython",
    "version": 3
   },
   "file_extension": ".py",
   "mimetype": "text/x-python",
   "name": "python",
   "nbconvert_exporter": "python",
   "pygments_lexer": "ipython3",
   "version": "3.9.13"
  }
 },
 "nbformat": 4,
 "nbformat_minor": 5
}
